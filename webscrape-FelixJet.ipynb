{
 "cells": [
  {
   "cell_type": "markdown",
   "metadata": {},
   "source": [
    "# Libraries"
   ]
  },
  {
   "cell_type": "code",
   "execution_count": 2,
   "metadata": {},
   "outputs": [],
   "source": [
    "import pandas as pd\n",
    "\n",
    "from selenium import webdriver\n",
    "from selenium.webdriver.common.by import By # used to import different ways to access data in the XML or HTML file\n",
    "from selenium.webdriver.chrome.service import Service # no longer need to download a driver file, use service\n",
    "from webdriver_manager.chrome import ChromeDriverManager # used to manage the Chrome driver to emulate a Chrome web browser"
   ]
  },
  {
   "cell_type": "markdown",
   "metadata": {},
   "source": [
    "# Webscraping"
   ]
  },
  {
   "cell_type": "code",
   "execution_count": null,
   "metadata": {},
   "outputs": [],
   "source": [
    "# Initializing driver\n",
    "driver = webdriver.Chrome()"
   ]
  },
  {
   "cell_type": "code",
   "execution_count": null,
   "metadata": {},
   "outputs": [],
   "source": [
    "# Opening link to the Alltransit website\n",
    "URL = r'https://alltransit.cnt.org/rankings/'\n",
    "driver.get(URL)"
   ]
  },
  {
   "cell_type": "code",
   "execution_count": null,
   "metadata": {},
   "outputs": [],
   "source": [
    "# Changing the settings of the table to show all cities with a population of over 100,000 \n",
    "driver.find_element(By.XPATH, \".//select[@name='show-these']/option[@value='all']\").click()\n",
    "driver.find_element(By.XPATH, \".//select[@name='min-pop']/option[@value='100000']\").click()"
   ]
  },
  {
   "cell_type": "code",
   "execution_count": null,
   "metadata": {},
   "outputs": [],
   "source": [
    "\n",
    "# Initializing lists to use to create dataframe\n",
    "ranks, names, scores, tcis, jobs, trips, routes, transitsheds, transitpercentage, populations = [],[],[],[],[],[],[],[],[],[]\n",
    "\n",
    "# Finding the table & associated rows on the webpage\n",
    "table = driver.find_element(By.XPATH, \".//table\")\n",
    "rows = [ row for row in table.find_elements(By.TAG_NAME, 'tr') ]\n",
    "\n",
    "# For each row of data, gather each table cell into a list via comprehension\n",
    "for row in rows[1:]:\n",
    "    cells = [ cell.text for cell in row.find_elements(By.TAG_NAME, 'td') ]\n",
    "    \n",
    "    ranks += [int(cells[0])]\n",
    "    names += [cells[1]]\n",
    "    scores += [float(cells[2])]\n",
    "    tcis += [float(cells[3])]\n",
    "    jobs += [int(''.join([ char for char in cells[4] if char in '0123456789']))]\n",
    "    trips += [int(''.join([ char for char in cells[5] if char in '0123456789']))]\n",
    "    routes += [int(cells[6])]\n",
    "    transitsheds += [int(cells[7][:-4])]\n",
    "    transitpercentage += [round(float(cells[8][:-1])/100, 3)]\n",
    "    populations += [int(''.join([ char for char in cells[9] if char in '0123456789']))]\n",
    "    \n",
    "    # Data cleaning while we are gathering data\n",
    "    # ranks: extract cast as integer\n",
    "    # names: extract as is\n",
    "    # scores: extract cast as float\n",
    "    # tcis: extract cast as float\n",
    "    # jobs: extract only numeric characters via list comprehension, cast list into string via join method, cast as integer \n",
    "    # trips: extract only numeric characters via list comprehension, cast list into string via join method, cast as integer \n",
    "    # routes: extract cast as integer\n",
    "    # transitsheds: extract all but the last 4 characters ' mi2', extract cast as integer\n",
    "    # transitpercentage: extract all but last character '%', divide by 100 for decimal notation, round to remove floating point errors , extract cast as float\n",
    "    # populations :extract only numeric characters via list comprehension, cast list into string via join method, cast as integer "
   ]
  },
  {
   "cell_type": "code",
   "execution_count": 8,
   "metadata": {},
   "outputs": [
    {
     "name": "stdout",
     "output_type": "stream",
     "text": [
      "Row Counts: [324, 324, 324, 324, 324, 324, 324, 324, 324, 324]\n"
     ]
    }
   ],
   "source": [
    "# Sanity Check\n",
    "print(f'Row Counts: {[ len(element) for element in [ranks, names, scores, tcis, jobs, trips, routes, transitsheds, transitpercentage, populations] ]}')"
   ]
  },
  {
   "cell_type": "code",
   "execution_count": null,
   "metadata": {},
   "outputs": [],
   "source": [
    "# Creating the dataframe by aggregating data into a dictionary, then casting to a dataframe\n",
    "alltransit_df=pd.DataFrame({\n",
    "    'rank':ranks,\n",
    "    'name':names,\n",
    "    'score':scores,\n",
    "    'tci':tcis,\n",
    "    'jobs':jobs,\n",
    "    'trips/week':trips,\n",
    "    'routes':routes,\n",
    "    'transit shed (mi2)':transitsheds,\n",
    "    '%transit':transitpercentage,\n",
    "    'population':populations,\n",
    "})"
   ]
  },
  {
   "cell_type": "code",
   "execution_count": 10,
   "metadata": {},
   "outputs": [
    {
     "data": {
      "text/html": [
       "<div>\n",
       "<style scoped>\n",
       "    .dataframe tbody tr th:only-of-type {\n",
       "        vertical-align: middle;\n",
       "    }\n",
       "\n",
       "    .dataframe tbody tr th {\n",
       "        vertical-align: top;\n",
       "    }\n",
       "\n",
       "    .dataframe thead th {\n",
       "        text-align: right;\n",
       "    }\n",
       "</style>\n",
       "<table border=\"1\" class=\"dataframe\">\n",
       "  <thead>\n",
       "    <tr style=\"text-align: right;\">\n",
       "      <th></th>\n",
       "      <th>rank</th>\n",
       "      <th>name</th>\n",
       "      <th>score</th>\n",
       "      <th>tci</th>\n",
       "      <th>jobs</th>\n",
       "      <th>trips/week</th>\n",
       "      <th>routes</th>\n",
       "      <th>transit shed (mi2)</th>\n",
       "      <th>%transit</th>\n",
       "      <th>population</th>\n",
       "    </tr>\n",
       "  </thead>\n",
       "  <tbody>\n",
       "    <tr>\n",
       "      <th>0</th>\n",
       "      <td>1</td>\n",
       "      <td>New York, NY</td>\n",
       "      <td>9.6</td>\n",
       "      <td>8.7</td>\n",
       "      <td>1296548</td>\n",
       "      <td>13960</td>\n",
       "      <td>19</td>\n",
       "      <td>44</td>\n",
       "      <td>0.544</td>\n",
       "      <td>8621501</td>\n",
       "    </tr>\n",
       "    <tr>\n",
       "      <th>1</th>\n",
       "      <td>2</td>\n",
       "      <td>San Francisco, CA</td>\n",
       "      <td>9.3</td>\n",
       "      <td>7.4</td>\n",
       "      <td>596446</td>\n",
       "      <td>9616</td>\n",
       "      <td>20</td>\n",
       "      <td>35</td>\n",
       "      <td>0.312</td>\n",
       "      <td>851036</td>\n",
       "    </tr>\n",
       "    <tr>\n",
       "      <th>2</th>\n",
       "      <td>3</td>\n",
       "      <td>Jersey City, NJ</td>\n",
       "      <td>9.2</td>\n",
       "      <td>5.6</td>\n",
       "      <td>828599</td>\n",
       "      <td>5272</td>\n",
       "      <td>3</td>\n",
       "      <td>26</td>\n",
       "      <td>0.478</td>\n",
       "      <td>287899</td>\n",
       "    </tr>\n",
       "  </tbody>\n",
       "</table>\n",
       "</div>"
      ],
      "text/plain": [
       "   rank               name  score  tci     jobs  trips/week  routes  \\\n",
       "0     1       New York, NY    9.6  8.7  1296548       13960      19   \n",
       "1     2  San Francisco, CA    9.3  7.4   596446        9616      20   \n",
       "2     3    Jersey City, NJ    9.2  5.6   828599        5272       3   \n",
       "\n",
       "   transit shed (mi2)  %transit  population  \n",
       "0                  44     0.544     8621501  \n",
       "1                  35     0.312      851036  \n",
       "2                  26     0.478      287899  "
      ]
     },
     "execution_count": 10,
     "metadata": {},
     "output_type": "execute_result"
    }
   ],
   "source": [
    "alltransit_df.head(3)"
   ]
  },
  {
   "cell_type": "code",
   "execution_count": null,
   "metadata": {},
   "outputs": [],
   "source": [
    "# Saving data as scraping is no longer needed\n",
    "alltransit_df.to_csv('alltransit100k.csv', index=False, encoding='utf-8')"
   ]
  }
 ],
 "metadata": {
  "kernelspec": {
   "display_name": "base",
   "language": "python",
   "name": "python3"
  },
  "language_info": {
   "codemirror_mode": {
    "name": "ipython",
    "version": 3
   },
   "file_extension": ".py",
   "mimetype": "text/x-python",
   "name": "python",
   "nbconvert_exporter": "python",
   "pygments_lexer": "ipython3",
   "version": "3.12.4"
  }
 },
 "nbformat": 4,
 "nbformat_minor": 2
}
